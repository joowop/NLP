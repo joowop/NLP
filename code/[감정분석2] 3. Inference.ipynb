{
 "cells": [
  {
   "cell_type": "markdown",
   "id": "dad1d421",
   "metadata": {},
   "source": [
    "# **Settings**"
   ]
  },
  {
   "cell_type": "code",
   "execution_count": 3,
   "id": "5ca2314e",
   "metadata": {},
   "outputs": [],
   "source": [
    "import os\n",
    "import warnings\n",
    "warnings.filterwarnings('ignore')                       # warning 출력 false\n",
    "\n",
    "import numpy as np \n",
    "import pandas as pd\n",
    "import re"
   ]
  },
  {
   "cell_type": "markdown",
   "id": "834e93f4",
   "metadata": {},
   "source": [
    "# **1. Model Settings**"
   ]
  },
  {
   "cell_type": "code",
   "execution_count": 4,
   "id": "710d6768",
   "metadata": {},
   "outputs": [
    {
     "name": "stdout",
     "output_type": "stream",
     "text": [
      "downstream_model_checkpoint_fpath: ./kcbert2\\epoch=5-val_loss=0.01.ckpt\n"
     ]
    }
   ],
   "source": [
    "from ratsnlp.nlpbook.classification import ClassificationDeployArguments\n",
    "\n",
    "# model setting\n",
    "model_path = './kcbert2'\n",
    "\n",
    "# arguments\n",
    "args = ClassificationDeployArguments(\n",
    "    pretrained_model_name = 'beomi/kcbert-base',\n",
    "    downstream_model_dir = model_path,\n",
    "    max_seq_length = 128\n",
    ")\n"
   ]
  },
  {
   "cell_type": "markdown",
   "id": "11e35dd9",
   "metadata": {},
   "source": [
    "# **2. Tokenizer**"
   ]
  },
  {
   "cell_type": "code",
   "execution_count": 5,
   "id": "e46f9b5c",
   "metadata": {},
   "outputs": [],
   "source": [
    "from transformers import BertTokenizer\n",
    "tokenizer = BertTokenizer.from_pretrained(\n",
    "    args.pretrained_model_name,\n",
    "    do_lower_case = False\n",
    ")"
   ]
  },
  {
   "cell_type": "markdown",
   "id": "7b8f1c7b",
   "metadata": {},
   "source": [
    "# **3. Load Checkpoint**"
   ]
  },
  {
   "cell_type": "code",
   "execution_count": 6,
   "id": "4a1f9e29",
   "metadata": {},
   "outputs": [],
   "source": [
    "# Load checkpoint\n",
    "import torch\n",
    "fine_tuned_model_ckpt = torch.load(\n",
    "    args.downstream_model_checkpoint_fpath,\n",
    "    map_location=torch.device('cpu')\n",
    ")"
   ]
  },
  {
   "cell_type": "markdown",
   "id": "0818b0a7",
   "metadata": {},
   "source": [
    "# **4. Model Config**"
   ]
  },
  {
   "cell_type": "code",
   "execution_count": 7,
   "id": "83895c67",
   "metadata": {},
   "outputs": [],
   "source": [
    "from transformers import BertConfig, BertForSequenceClassification\n",
    "\n",
    "# 모델 생성 및 초기화\n",
    "from transformers import BertConfig\n",
    "pretrained_model_config = BertConfig.from_pretrained(\n",
    "    args.pretrained_model_name,\n",
    "    num_labels = fine_tuned_model_ckpt['state_dict']['model.classifier.bias'].shape.numel()\n",
    ")\n",
    "\n",
    "model = BertForSequenceClassification(pretrained_model_config)"
   ]
  },
  {
   "cell_type": "markdown",
   "id": "1d4b5d43",
   "metadata": {},
   "source": [
    "# **5. Model**"
   ]
  },
  {
   "cell_type": "code",
   "execution_count": 8,
   "id": "a4ed2991",
   "metadata": {},
   "outputs": [
    {
     "data": {
      "text/plain": [
       "BertForSequenceClassification(\n",
       "  (bert): BertModel(\n",
       "    (embeddings): BertEmbeddings(\n",
       "      (word_embeddings): Embedding(30000, 768, padding_idx=0)\n",
       "      (position_embeddings): Embedding(300, 768)\n",
       "      (token_type_embeddings): Embedding(2, 768)\n",
       "      (LayerNorm): LayerNorm((768,), eps=1e-12, elementwise_affine=True)\n",
       "      (dropout): Dropout(p=0.1, inplace=False)\n",
       "    )\n",
       "    (encoder): BertEncoder(\n",
       "      (layer): ModuleList(\n",
       "        (0-11): 12 x BertLayer(\n",
       "          (attention): BertAttention(\n",
       "            (self): BertSelfAttention(\n",
       "              (query): Linear(in_features=768, out_features=768, bias=True)\n",
       "              (key): Linear(in_features=768, out_features=768, bias=True)\n",
       "              (value): Linear(in_features=768, out_features=768, bias=True)\n",
       "              (dropout): Dropout(p=0.1, inplace=False)\n",
       "            )\n",
       "            (output): BertSelfOutput(\n",
       "              (dense): Linear(in_features=768, out_features=768, bias=True)\n",
       "              (LayerNorm): LayerNorm((768,), eps=1e-12, elementwise_affine=True)\n",
       "              (dropout): Dropout(p=0.1, inplace=False)\n",
       "            )\n",
       "          )\n",
       "          (intermediate): BertIntermediate(\n",
       "            (dense): Linear(in_features=768, out_features=3072, bias=True)\n",
       "            (intermediate_act_fn): GELUActivation()\n",
       "          )\n",
       "          (output): BertOutput(\n",
       "            (dense): Linear(in_features=3072, out_features=768, bias=True)\n",
       "            (LayerNorm): LayerNorm((768,), eps=1e-12, elementwise_affine=True)\n",
       "            (dropout): Dropout(p=0.1, inplace=False)\n",
       "          )\n",
       "        )\n",
       "      )\n",
       "    )\n",
       "    (pooler): BertPooler(\n",
       "      (dense): Linear(in_features=768, out_features=768, bias=True)\n",
       "      (activation): Tanh()\n",
       "    )\n",
       "  )\n",
       "  (dropout): Dropout(p=0.1, inplace=False)\n",
       "  (classifier): Linear(in_features=768, out_features=7, bias=True)\n",
       ")"
      ]
     },
     "execution_count": 8,
     "metadata": {},
     "output_type": "execute_result"
    }
   ],
   "source": [
    "# 모델 불러오기\n",
    "model.load_state_dict({k.replace('model.',''): v for k,v in fine_tuned_model_ckpt['state_dict'].items()})\n",
    "model.eval()"
   ]
  },
  {
   "cell_type": "markdown",
   "id": "53616ce9",
   "metadata": {},
   "source": [
    "# 6. Inference"
   ]
  },
  {
   "cell_type": "markdown",
   "id": "c20ce3b5",
   "metadata": {},
   "source": [
    "## **1) 채팅글 감정 정보**"
   ]
  },
  {
   "cell_type": "code",
   "execution_count": 59,
   "id": "29476238",
   "metadata": {},
   "outputs": [],
   "source": [
    "def chat_preprocessing(file_path):\n",
    "    # 채팅 불러오기\n",
    "    with open(file_path,'r', encoding='utf-8') as f:\n",
    "        chat_data = f.read().strip().split('\\n')\n",
    "    # print(chat_data)\n",
    "\n",
    "    # 채팅 분리\n",
    "    speak_list = []\n",
    "    chat_list = []\n",
    "    for i, sent in enumerate(chat_data):\n",
    "        sent = sent.strip()\n",
    "        p = re.compile('\\[([^]]+)\\]')\n",
    "        speak = p.findall(sent)\n",
    "        if speak == []:\n",
    "            speak = speak_list[-1]\n",
    "        else:\n",
    "            speak = speak[0]\n",
    "\n",
    "        chat = re.sub('\\[([^]]+)\\]','',sent).strip()\n",
    "        chat = re.sub('[^가-힣\\s]','',chat).strip()\n",
    "\n",
    "        if i > 0 and speak == speak_list[-1]:\n",
    "            chat_list[-1] = chat_list[-1]+ ' ' + chat\n",
    "        else:\n",
    "            chat_list.append(chat)\n",
    "            speak_list.append(speak)\n",
    "\n",
    "    # 내 것만\n",
    "    my_list = []\n",
    "    for y, m in zip(speak_list, chat_list):\n",
    "        if y == '나' and len(m) > 1:\n",
    "            my_list.append(m)\n",
    "\n",
    "    return {'total': {'users':speak_list,'chat':chat_list}, 'user':my_list}"
   ]
  },
  {
   "cell_type": "code",
   "execution_count": 60,
   "id": "ead48691",
   "metadata": {},
   "outputs": [
    {
     "name": "stdout",
     "output_type": "stream",
     "text": [
      "상대방: 야 나 차단했냐 전화 좀 받아봐 나 진짜 할 말있어서 그래\n",
      "나: 니 목소리 듣기도 싫으니까 꺼져\n",
      "상대방: 진짜 중요한 일이라고 빨리 받아봐 이게 마지막이야\n",
      "나: \n",
      "상대방: 혹시 이번주에 시간돼\n",
      "나: 왜\n",
      "상대방: 이런말하기 좀그렇지만 예전에 내가 사준 아이패드 돌려주라 나 그거 할부 아직 안끝낫거든\n",
      "나: 선물로 준 거 아니었어\n",
      "상대방: 그건 그런데 나는 아직도 할부갚고 있는데 아이패드는 너가 쓰고잇자나 이번주에 시간되면 아이패드좀 돌려주라\n",
      "나: 택배로 보낼게 주소 알려줘\n",
      "상대방: 응 아 그리고 혹시나해서 말하는데 착불은 치사한거 알지\n",
      "나: 하 너 정말 구질구질하다 다신 연락하지마\n"
     ]
    }
   ],
   "source": [
    "result = chat_preprocessing('./kakaotalk/전남친.txt')\n",
    "for user, chat in zip(result['total']['users'],result['total']['chat']):\n",
    "    print(f'{user}: {chat}')"
   ]
  },
  {
   "cell_type": "code",
   "execution_count": 61,
   "id": "c966060d",
   "metadata": {},
   "outputs": [
    {
     "name": "stdout",
     "output_type": "stream",
     "text": [
      "니 목소리 듣기도 싫으니까 꺼져\n",
      ">>> 분노\n",
      "선물로 준 거 아니었어\n",
      ">>> 당황\n",
      "택배로 보낼게 주소 알려줘\n",
      ">>> 상처\n",
      "하 너 정말 구질구질하다 다신 연락하지마\n",
      ">>> 슬픔\n"
     ]
    }
   ],
   "source": [
    "my_list = result['user']\n",
    "# 연인싸움\n",
    "for text in my_list:\n",
    "    print(text)\n",
    "    print(f'>>> {inference_fn(text)}')"
   ]
  },
  {
   "cell_type": "markdown",
   "id": "40883f91",
   "metadata": {},
   "source": [
    "## **2) 노래가사 감정 정보**"
   ]
  },
  {
   "cell_type": "code",
   "execution_count": 10,
   "id": "29b1ca69",
   "metadata": {},
   "outputs": [
    {
     "name": "stdout",
     "output_type": "stream",
     "text": [
      "(453965, 4) (56248, 4)\n"
     ]
    }
   ],
   "source": [
    "train_data = pd.read_csv('./data2/train_data.csv')\n",
    "val_data = pd.read_csv('./data2/val_data.csv')\n",
    "print(train_data.shape, val_data.shape)"
   ]
  },
  {
   "cell_type": "code",
   "execution_count": 63,
   "id": "73d8f20b",
   "metadata": {},
   "outputs": [
    {
     "name": "stdout",
     "output_type": "stream",
     "text": [
      "Happy: ['고맙다' '굉장하다' '만족스럽다' '뭉클하다' '반갑다' '부유하다' '사랑스럽다' '영광스럽다' '자랑스럽다' '자유롭다'\n",
      " '즐겁다' '행복하다' '홀가분하다' '화목하다' '흐뭇하다']\n",
      "Sad: ['가엾다' '괴롭다' '그립다' '보잘것없다' '불쌍하다' '불행하다' '뼈아프다' '서럽다' '시무룩하다' '쓸쓸하다' '아쉽다'\n",
      " '안타깝다' '억울하다']\n",
      "Angry: ['경멸스럽다' '기막히다' '끔찍하다' '무례하다' '밉다' '배은망덕하다' '부당하다' '뻔뻔스럽다' '아니꼽다' '악랄하다'\n",
      " '억울하다' '언짢다' '짜증스럽다' '치욕스럽다' '한심하다']\n",
      "Anxious: ['갑갑하다' '고통스럽다' '꺼림칙하다' '다급하다' '두렵다' '불확실하다' '수상하다' '심란하다' '아득하다' '약하다'\n",
      " '외롭다' '위험하다' '의심스럽다' '조마조마하다' '혼란하다']\n",
      "Hurt: ['고통스럽다' '괴롭다' '냉정하다' '매정하다' '못되다' '무관심하다' '밉다' '불행하다' '뼈아프다' '서럽다' '섭섭하다'\n",
      " '슬프다' '쓰리다']\n",
      "Embarrassed: ['갑작스럽다' '곤란하다' '급하다' '기막히다' '난데없다' '남사스럽다' '망하다' '버겁다' '부끄럽다' '아찔하다'\n",
      " '어리둥절하다' '엉뚱하다' '창피하다' '혼란하다']\n",
      "Neutrality: ['긴밀하다' '녹녹하다' '담백하다' '대동소이하다' '둥그스름하다' '뚜렷하다' '얕다' '어렴풋하다' '엄밀하다' '엄중하다'\n",
      " '예사롭다' '자세하다']\n"
     ]
    }
   ],
   "source": [
    "train_data['emotion'].unique()\n",
    "\n",
    "for emotion in train_data['emotion'].unique():\n",
    "    sub_emotion = train_data[train_data['emotion']==emotion]['sensitivity'].unique()\n",
    "    print(f'{emotion}: {sub_emotion}')"
   ]
  },
  {
   "cell_type": "code",
   "execution_count": 64,
   "id": "3e183f16",
   "metadata": {},
   "outputs": [
    {
     "data": {
      "text/plain": [
       "array(['Angry', 'Anxious', 'Embarrassed', 'Happy', 'Hurt', 'Neutrality',\n",
       "       'Sad'], dtype=object)"
      ]
     },
     "execution_count": 64,
     "metadata": {},
     "output_type": "execute_result"
    }
   ],
   "source": [
    "import pickle\n",
    "with open('./data2/encoder.pkl', 'rb') as f:\n",
    "    encoder = pickle.load(f)\n",
    "encoder.classes_"
   ]
  },
  {
   "cell_type": "markdown",
   "id": "40b692b1",
   "metadata": {},
   "source": [
    "## **2) 노래가사 감정 추론**"
   ]
  },
  {
   "cell_type": "code",
   "execution_count": 39,
   "id": "58dc6dfc",
   "metadata": {},
   "outputs": [],
   "source": [
    "# 추론\n",
    "def inference_fn(sentence):\n",
    "    emotion_list = ['분노', '불안', '당황', '기쁨', '상처', '중립','슬픔']\n",
    "    inputs = tokenizer(\n",
    "        [sentence],\n",
    "        max_length=args.max_seq_length,\n",
    "        padding = 'max_length',\n",
    "        truncation=True\n",
    "    )\n",
    "\n",
    "    with torch.no_grad():\n",
    "        outputs = model(**{k: torch.tensor(v) for k,v in inputs.items()})\n",
    "        prob = outputs.logits.softmax(dim=1)\n",
    "        positive_prob = round(prob[0][1].item(),4)\n",
    "        negative_prob = round(prob[0][0].item(),4)\n",
    "        pred = torch.argmax(prob).item()\n",
    "        \n",
    "        return emotion_list[pred]\n",
    "    \n",
    "# 추론\n",
    "def lyrics_preprocessing(lyrics):\n",
    "    lyrics = re.sub('[^ㄱ-ㅣ가-힣]',' ',lyrics).split('  ')\n",
    "    lyrics = [x .strip() for x in lyrics if x != '']\n",
    "    lyrics = ' '.join(list(set(lyrics)))\n",
    "    \n",
    "    return lyrics\n",
    "\n",
    "def inference_fn_lyrics(lyrics):\n",
    "    emotion_list = ['분노', '불안', '당황', '기쁨', '상처', '중립','슬픔']\n",
    "    \n",
    "    sentence = lyrics_preprocessing(lyrics)\n",
    "    if len(sentence) == 0:\n",
    "        return 'X'\n",
    "    \n",
    "    inputs = tokenizer(\n",
    "        [sentence],\n",
    "        max_length=args.max_seq_length,\n",
    "        padding = 'max_length',\n",
    "        truncation=True\n",
    "    )\n",
    "\n",
    "    with torch.no_grad():\n",
    "        outputs = model(**{k: torch.tensor(v) for k,v in inputs.items()})\n",
    "        prob = outputs.logits.softmax(dim=1)\n",
    "        pred = torch.argmax(prob).item()\n",
    "        \n",
    "        return emotion_list[pred]"
   ]
  },
  {
   "cell_type": "code",
   "execution_count": 82,
   "id": "dc43e041",
   "metadata": {},
   "outputs": [
    {
     "data": {
      "text/html": [
       "<div>\n",
       "<style scoped>\n",
       "    .dataframe tbody tr th:only-of-type {\n",
       "        vertical-align: middle;\n",
       "    }\n",
       "\n",
       "    .dataframe tbody tr th {\n",
       "        vertical-align: top;\n",
       "    }\n",
       "\n",
       "    .dataframe thead th {\n",
       "        text-align: right;\n",
       "    }\n",
       "</style>\n",
       "<table border=\"1\" class=\"dataframe\">\n",
       "  <thead>\n",
       "    <tr style=\"text-align: right;\">\n",
       "      <th></th>\n",
       "      <th>title-singer</th>\n",
       "      <th>lyrics</th>\n",
       "      <th>new_lyrics</th>\n",
       "    </tr>\n",
       "  </thead>\n",
       "  <tbody>\n",
       "    <tr>\n",
       "      <th>0</th>\n",
       "      <td>그대라는 시-태연 (TAEYEON)</td>\n",
       "      <td>언제부터인지 그대를 보면\\n운명이라고 느꼈던 걸까\\n밤하늘의 별이 빛난 것처럼\\n오...</td>\n",
       "      <td>언제부터인지 그대를 보면 운명이라고 느꼈던 걸까 밤하늘의 별이 빛난 것처럼 오랫동안...</td>\n",
       "    </tr>\n",
       "    <tr>\n",
       "      <th>1</th>\n",
       "      <td>면역력-하성운</td>\n",
       "      <td>오늘따라 유난히 목소리 잠겨\\n내 맘 밤새 건조했던 탓일까\\n매일같이 신경 써 조심...</td>\n",
       "      <td>오늘따라 유난히 목소리 잠겨 내 맘 밤새 건조했던 탓일까 매일같이 신경 써 조심을 ...</td>\n",
       "    </tr>\n",
       "    <tr>\n",
       "      <th>2</th>\n",
       "      <td>다시 난, 여기-백예린 (Yerin Baek)</td>\n",
       "      <td>나의 마음이 움직여\\n그냥 길을 따라 걸어가도\\n다시 여기 너의 앞에\\n두려웠던 나...</td>\n",
       "      <td>나의 마음이 움직여 그냥 길을 따라 걸어가도 다시 여기 너의 앞에 두려웠던 나의 맘...</td>\n",
       "    </tr>\n",
       "    <tr>\n",
       "      <th>3</th>\n",
       "      <td>기대했단 말야-JOO</td>\n",
       "      <td>기다렸어 난 잠이 들때마다\\n연락이 오길 기도했어\\n힘들었지만 참을 수 있었어\\n애...</td>\n",
       "      <td>기다렸어 난 잠이 들때마다 연락이 오길 기도했어 힘들었지만 참을 수 있었어 애써 웃...</td>\n",
       "    </tr>\n",
       "    <tr>\n",
       "      <th>4</th>\n",
       "      <td>그 끝에 그대-청하</td>\n",
       "      <td>다가서면 멀어지는 저 꿈결처럼\\n그댄 어디로 가나요\\n내 맘속에 살고 있는 그대란 ...</td>\n",
       "      <td>다가서면 멀어지는 저 꿈결처럼 그댄 어디로 가나요 내 맘속에 살고 있는 그대란 사람...</td>\n",
       "    </tr>\n",
       "    <tr>\n",
       "      <th>...</th>\n",
       "      <td>...</td>\n",
       "      <td>...</td>\n",
       "      <td>...</td>\n",
       "    </tr>\n",
       "    <tr>\n",
       "      <th>6753</th>\n",
       "      <td>Up!-Kep1er (케플러)</td>\n",
       "      <td>Listen\\nI do I do 오늘도 내일도\\nDon’t waste it\\nNa ...</td>\n",
       "      <td>오늘도 내일도 주문을 외우고 더 멋진 제일 멋진 색깔로 울려 퍼지는 출발 직전 아찔...</td>\n",
       "    </tr>\n",
       "    <tr>\n",
       "      <th>6754</th>\n",
       "      <td>WA DA DA-Kep1er (케플러)</td>\n",
       "      <td>Hey\\nIt’s you\\n&amp; I\\nLet’s start\\nN N Now 도착한 이...</td>\n",
       "      <td>도착한 이 나의 신호를 따라 꿈꿔온 모험 가까이 있어 있어 한 발 한 발 내디뎌 갈...</td>\n",
       "    </tr>\n",
       "    <tr>\n",
       "      <th>6755</th>\n",
       "      <td>Giddy-Kep1er (케플러)</td>\n",
       "      <td>Give me give me some\\nGive me give me some\\nGi...</td>\n",
       "      <td>우주를 뒤흔든 날 끌어당기는 강력한 너란 중력에 땅이 울리고 심장이 떨리는 널 향한...</td>\n",
       "    </tr>\n",
       "    <tr>\n",
       "      <th>6756</th>\n",
       "      <td>Take It-IVE (아이브)</td>\n",
       "      <td>Just take it take it\\nYeah take it take it\\nJu...</td>\n",
       "      <td>대체 뭘 망설이니 답답한 너드처럼 밀고 당길 뻔한 루틴까지 재미없어 난 필요 없는 ...</td>\n",
       "    </tr>\n",
       "    <tr>\n",
       "      <th>6757</th>\n",
       "      <td>NOT YOUR GIRL-IVE (아이브)</td>\n",
       "      <td>Okay\\nLet’s go!\\nLet’s play, girls!\\nNa na na ...</td>\n",
       "      <td>아찔한 순간 말해줘 참지 말고 날 불러줘 내 이름을 나와 눈이 마주치고 내 진심을 ...</td>\n",
       "    </tr>\n",
       "  </tbody>\n",
       "</table>\n",
       "<p>6758 rows × 3 columns</p>\n",
       "</div>"
      ],
      "text/plain": [
       "                   title-singer  \\\n",
       "0           그대라는 시-태연 (TAEYEON)   \n",
       "1                       면역력-하성운   \n",
       "2     다시 난, 여기-백예린 (Yerin Baek)   \n",
       "3                   기대했단 말야-JOO   \n",
       "4                    그 끝에 그대-청하   \n",
       "...                         ...   \n",
       "6753           Up!-Kep1er (케플러)   \n",
       "6754      WA DA DA-Kep1er (케플러)   \n",
       "6755         Giddy-Kep1er (케플러)   \n",
       "6756          Take It-IVE (아이브)   \n",
       "6757    NOT YOUR GIRL-IVE (아이브)   \n",
       "\n",
       "                                                 lyrics  \\\n",
       "0     언제부터인지 그대를 보면\\n운명이라고 느꼈던 걸까\\n밤하늘의 별이 빛난 것처럼\\n오...   \n",
       "1     오늘따라 유난히 목소리 잠겨\\n내 맘 밤새 건조했던 탓일까\\n매일같이 신경 써 조심...   \n",
       "2     나의 마음이 움직여\\n그냥 길을 따라 걸어가도\\n다시 여기 너의 앞에\\n두려웠던 나...   \n",
       "3     기다렸어 난 잠이 들때마다\\n연락이 오길 기도했어\\n힘들었지만 참을 수 있었어\\n애...   \n",
       "4     다가서면 멀어지는 저 꿈결처럼\\n그댄 어디로 가나요\\n내 맘속에 살고 있는 그대란 ...   \n",
       "...                                                 ...   \n",
       "6753  Listen\\nI do I do 오늘도 내일도\\nDon’t waste it\\nNa ...   \n",
       "6754  Hey\\nIt’s you\\n& I\\nLet’s start\\nN N Now 도착한 이...   \n",
       "6755  Give me give me some\\nGive me give me some\\nGi...   \n",
       "6756  Just take it take it\\nYeah take it take it\\nJu...   \n",
       "6757  Okay\\nLet’s go!\\nLet’s play, girls!\\nNa na na ...   \n",
       "\n",
       "                                             new_lyrics  \n",
       "0     언제부터인지 그대를 보면 운명이라고 느꼈던 걸까 밤하늘의 별이 빛난 것처럼 오랫동안...  \n",
       "1     오늘따라 유난히 목소리 잠겨 내 맘 밤새 건조했던 탓일까 매일같이 신경 써 조심을 ...  \n",
       "2     나의 마음이 움직여 그냥 길을 따라 걸어가도 다시 여기 너의 앞에 두려웠던 나의 맘...  \n",
       "3     기다렸어 난 잠이 들때마다 연락이 오길 기도했어 힘들었지만 참을 수 있었어 애써 웃...  \n",
       "4     다가서면 멀어지는 저 꿈결처럼 그댄 어디로 가나요 내 맘속에 살고 있는 그대란 사람...  \n",
       "...                                                 ...  \n",
       "6753  오늘도 내일도 주문을 외우고 더 멋진 제일 멋진 색깔로 울려 퍼지는 출발 직전 아찔...  \n",
       "6754  도착한 이 나의 신호를 따라 꿈꿔온 모험 가까이 있어 있어 한 발 한 발 내디뎌 갈...  \n",
       "6755  우주를 뒤흔든 날 끌어당기는 강력한 너란 중력에 땅이 울리고 심장이 떨리는 널 향한...  \n",
       "6756  대체 뭘 망설이니 답답한 너드처럼 밀고 당길 뻔한 루틴까지 재미없어 난 필요 없는 ...  \n",
       "6757  아찔한 순간 말해줘 참지 말고 날 불러줘 내 이름을 나와 눈이 마주치고 내 진심을 ...  \n",
       "\n",
       "[6758 rows x 3 columns]"
      ]
     },
     "execution_count": 82,
     "metadata": {},
     "output_type": "execute_result"
    }
   ],
   "source": [
    "songs = pd.read_csv('./lyricsDB.csv')\n",
    "songs"
   ]
  },
  {
   "cell_type": "code",
   "execution_count": 83,
   "id": "dfbcdc63",
   "metadata": {},
   "outputs": [
    {
     "name": "stdout",
     "output_type": "stream",
     "text": [
      "Start! > 200 > 400 > 600 > 800 > 1000 > 1200 > 1400 > 1600 > 1800 > 2000 > 2200 > 2400 > 2600 > 2800 > 3000 > 3200 > 3400 > 3600 > 3800 > 4000 > 4200 > 4400 > 4600 > 4800 > 5000 > 5200 > 5400 > 5600 > 5800 > 6000 > 6200 > 6400 > 6600 End!\n"
     ]
    }
   ],
   "source": [
    "emotion_list = []\n",
    "cnt = 0\n",
    "print('Start!', end=' ')\n",
    "for lyrics in songs['new_lyrics']:\n",
    "    emotion = inference_fn_lyrics(lyrics)\n",
    "    emotion_list.append(emotion)\n",
    "    \n",
    "    cnt += 1\n",
    "    if cnt % 200 == 0:\n",
    "        print(f'> {cnt}',end=' ')\n",
    "print('End!')"
   ]
  },
  {
   "cell_type": "code",
   "execution_count": 86,
   "id": "3ae43b18",
   "metadata": {},
   "outputs": [],
   "source": [
    "# 데이터 저장\n",
    "songs['emotion'] = emotion_list\n",
    "songs = songs[songs['emotion']!='X']\n",
    "songs.to_csv('./lyricsDB_emotion.csv',index=False)"
   ]
  },
  {
   "cell_type": "code",
   "execution_count": 87,
   "id": "c3b8ddb8",
   "metadata": {},
   "outputs": [],
   "source": [
    "song_emotion = {}\n",
    "for title, emotion in zip(songs['title-singer'],songs['emotion']):\n",
    "#     print(title, emotion)\n",
    "#     break\n",
    "    song_emotion[title] = emotion\n",
    "\n",
    "import pickle\n",
    "with open('./song2emotion.pkl', 'wb') as f:\n",
    "    pickle.dump(song_emotion, f)"
   ]
  },
  {
   "cell_type": "code",
   "execution_count": 75,
   "id": "f145e55b",
   "metadata": {},
   "outputs": [
    {
     "name": "stdout",
     "output_type": "stream",
     "text": [
      "[연애-Sondia]의 감정은 분노입니다.\n",
      "[Singer Songwriter (feat. 김이지)-크루셜스타 (CRUCiAL STAR)]의 감정은 기쁨입니다.\n",
      "[일년이면-휘성 (Realslow)]의 감정은 슬픔입니다.\n",
      "[위로-권진아]의 감정은 상처입니다.\n",
      "[Baby Baby-포맨 (4MEN)]의 감정은 슬픔입니다.\n",
      "[흐린 가을 하늘에 편지를 써-동물원]의 감정은 슬픔입니다.\n",
      "[Wayne Remix (feat. G2, Huckleberry P & P-TYPE)-JUSTHIS & Paloalto (저스디스 & 팔로알토)]의 감정은 슬픔입니다.\n",
      "[Red Light-f(x)]의 감정은 분노입니다.\n",
      "[오늘... 그녀가-루그]의 감정은 슬픔입니다.\n",
      "[좋아해서 미안-Stray Kids (스트레이 키즈)]의 감정은 슬픔입니다.\n",
      "[고백-장범준]의 감정은 슬픔입니다.\n",
      "[난 알아요-서태지와 아이들]의 감정은 슬픔입니다.\n",
      "[Run Devil Run-소녀시대 (GIRLS' GENERATION)]의 감정은 분노입니다.\n",
      "[Moonlight-Sondia]의 감정은 슬픔입니다.\n",
      "[그 해 여름-인피니트]의 감정은 상처입니다.\n",
      "[내 삶의 반-한경일]의 감정은 슬픔입니다.\n",
      "[귀를 기울이면 (LOVE WHISPER)-여자친구 (GFRIEND)]의 감정은 기쁨입니다.\n",
      "[It Will Be-김성규]의 감정은 슬픔입니다.\n",
      "[끼부리지마-WINNER]의 감정은 분노입니다.\n",
      "[잊혀지길-범키]의 감정은 상처입니다.\n",
      "[바다보러갈래 (SEE SEA)-효린]의 감정은 기쁨입니다.\n",
      "[비가와 (Rain)-소유 (SOYOU), 백현 (BAEKHYUN)]의 감정은 상처입니다.\n",
      "[이 밤을 살아가는 너에게 (Vocal. 지유)-타임브릿지]의 감정은 슬픔입니다.\n",
      "[What is Love?-TWICE (트와이스)]의 감정은 상처입니다.\n",
      "[오늘은 가지마-벤]의 감정은 슬픔입니다.\n",
      "[고백-이수훈]의 감정은 상처입니다.\n",
      "[예뻤어-DAY6 (데이식스)]의 감정은 상처입니다.\n",
      "[사나이 가는 길 (폼생폼사)-젝스키스]의 감정은 슬픔입니다.\n",
      "[최고의 행운-첸 (CHEN)]의 감정은 기쁨입니다.\n",
      "[공원여행-페퍼톤스 (PEPPERTONES)]의 감정은 상처입니다.\n",
      "[바다가 우릴 부르고 있어-훈스 (HOONS)]의 감정은 상처입니다.\n",
      "[내 얘길 들어봐 (A-ing) (Feat. 스컬&하하)-오마이걸 (OH MY GIRL)]의 감정은 상처입니다.\n",
      "[바라봐줘요-샘김 (Sam Kim)]의 감정은 상처입니다.\n",
      "[Perfect Day-오마이걸 (OH MY GIRL)]의 감정은 슬픔입니다.\n",
      "[하늘색 약속-god]의 감정은 슬픔입니다.\n",
      "[LET ME-골든차일드]의 감정은 분노입니다.\n",
      "[달마시안-허클베리피 (Huckleberry P)]의 감정은 상처입니다.\n",
      "[옥탑방 (Rooftop)-엔플라잉 (N.Flying)]의 감정은 기쁨입니다.\n",
      "[날개-못 (Mot)]의 감정은 슬픔입니다.\n",
      "[키리에-김윤아]의 감정은 슬픔입니다.\n",
      "[우리의 계절 (My Youth)-NCT DREAM]의 감정은 상처입니다.\n",
      "[답장-김동률]의 감정은 분노입니다.\n",
      "[달에게 데려다줘-유지희 (Yujihi)]의 감정은 분노입니다.\n",
      "[HOLA-우주소녀]의 감정은 분노입니다.\n",
      "[내게 오는 길-성시경]의 감정은 기쁨입니다.\n",
      "[홀로-로시 (Rothy)]의 감정은 슬픔입니다.\n",
      "[헷갈려-Zion.T, Colde (콜드)]의 감정은 슬픔입니다.\n",
      "[한 사람만 보여요-이창민, 다희]의 감정은 기쁨입니다.\n",
      "[달빛 소리 (Moonlight Melody)-Red Velvet (레드벨벳)]의 감정은 상처입니다.\n",
      "[감기-이기찬]의 감정은 슬픔입니다.\n",
      "[GENTLEMAN-싸이 (PSY)]의 감정은 당황입니다.\n",
      "[아이스크림-MC몽]의 감정은 슬픔입니다.\n",
      "[D.I.S.C.O (Feat. TOP)-엄정화]의 감정은 슬픔입니다.\n",
      "[결혼하는 날-이준호]의 감정은 상처입니다.\n",
      "[청춘 (DAY)-우효]의 감정은 슬픔입니다.\n",
      "[악취-김사월]의 감정은 슬픔입니다.\n",
      "[저 별은 외로움의 얼굴-다린]의 감정은 슬픔입니다.\n",
      "[너는 기억한다-폴킴]의 감정은 상처입니다.\n",
      "[레인보우(Feat.YDG)(Prod.iDeal)-뱃사공]의 감정은 상처입니다.\n",
      "[November Rain-잔나비]의 감정은 상처입니다.\n",
      "[화요일의 실루엣-미스티 블루]의 감정은 상처입니다.\n",
      "[Hot 뜨거-원타임]의 감정은 분노입니다.\n",
      "[비와 당신-이무진]의 감정은 슬픔입니다.\n",
      "[BAAAM (Feat. Muzie Of UV)-다이나믹 듀오]의 감정은 분노입니다.\n",
      "[삠삠 (BEAM BEAM)-전소연]의 감정은 분노입니다.\n",
      "[샤이보이-시크릿]의 감정은 분노입니다.\n",
      "[그게 우리의 마지막인 줄 알았다면 (With 성영주)-새봄 (saevom)]의 감정은 슬픔입니다.\n",
      "[니가 궁금한 여름밤이야 (Feat. OuiOui, PLUMA)-마인드유]의 감정은 불안입니다.\n",
      "[기억해줘요 내 모든 날과 그때를-거미]의 감정은 상처입니다.\n",
      "[남이 되어가, 우리-플랏나인]의 감정은 상처입니다.\n",
      "[그 기억 속에... 나를 불러본다-안녕하신가영]의 감정은 슬픔입니다.\n",
      "[상남자 (Boy In Luv)-방탄소년단]의 감정은 상처입니다.\n",
      "[가두지마오 (Feat. 강지은, 조성범)-히즈윌 (HisWill)]의 감정은 분노입니다.\n",
      "[어쩌나-세븐틴 (SEVENTEEN)]의 감정은 슬픔입니다.\n",
      "[Wayne Remix (feat. G2, Huckleberry P & P-TYPE)-JUSTHIS & Paloalto (저스디스 & 팔로알토)]의 감정은 슬픔입니다.\n",
      "[우리의 계절 (My Youth)-NCT DREAM]의 감정은 상처입니다.\n",
      "[회상-정경호]의 감정은 상처입니다.\n",
      "[마치 우린 없었던 사이 (Prod. 정키)-다비치]의 감정은 슬픔입니다.\n",
      "[마치 우린 없었던 사이 (Prod. 정키)-다비치]의 감정은 슬픔입니다.\n",
      "[오늘도 빛나는 너에게-이영현, 박민혜 (빅마마)]의 감정은 상처입니다.\n",
      "[타투 (Tattoo)-적재]의 감정은 상처입니다.\n",
      "[밤 비-some:r (소머)]의 감정은 슬픔입니다.\n",
      "[그대의 꿈결 (Feat. 김사월)-신해경]의 감정은 슬픔입니다.\n",
      "[flex (Prod. By 기리보이)-기리보이, 키드밀리 (Kid Milli), NO:EL, 스윙스]의 감정은 슬픔입니다.\n",
      "[어깨-소유 (SOYOU), 권정열]의 감정은 상처입니다.\n",
      "[Scarlett-데이먼스 이어 (Damons year)]의 감정은 상처입니다.\n",
      "[섬-선우정아]의 감정은 상처입니다.\n",
      "[말해 Yes Or No (Feat. PENOMECO, The Quiett)-지코 (ZICO)]의 감정은 분노입니다.\n",
      "[나 항상 그대를-이선희]의 감정은 상처입니다.\n",
      "[Shine With Me-IVE (아이브)]의 감정은 슬픔입니다.\n",
      "[내가 저지른 사랑-임창정]의 감정은 슬픔입니다.\n",
      "[비밀의 화원-원슈타인]의 감정은 상처입니다.\n",
      "[나쁜X-비비 (BIBI)]의 감정은 분노입니다.\n",
      "[Hot 뜨거-원타임]의 감정은 분노입니다.\n",
      "[먹지-예성 (YESUNG)]의 감정은 기쁨입니다.\n",
      "[SMARTPHONE-YENA (최예나)]의 감정은 당황입니다.\n",
      "[SNEAKERS-ITZY (있지)]의 감정은 상처입니다.\n",
      "[도시생활-그루비룸 (GroovyRoom), 릴러말즈 (Leellamarz)]의 감정은 상처입니다.\n",
      "[내 마음 들리나요 (Feat. 이하이)-에픽하이 (EPIK HIGH)]의 감정은 슬픔입니다.\n",
      "[Uh-Oh-(여자)아이들]의 감정은 분노입니다.\n"
     ]
    }
   ],
   "source": [
    "# 랜덤으로 확인하기\n",
    "n = 100\n",
    "rand_idx = np.random.randint(0,songs.shape[0],n)\n",
    "\n",
    "for idx in rand_idx:\n",
    "    title = songs.iloc[idx,0]\n",
    "    lyrics = songs.iloc[idx,1]\n",
    "    emotion = inference_fn_lyrics(lyrics)\n",
    "    print(f'[{title}]의 감정은 {emotion}입니다.')"
   ]
  }
 ],
 "metadata": {
  "kernelspec": {
   "display_name": "myenv",
   "language": "python",
   "name": "myenv"
  },
  "language_info": {
   "codemirror_mode": {
    "name": "ipython",
    "version": 3
   },
   "file_extension": ".py",
   "mimetype": "text/x-python",
   "name": "python",
   "nbconvert_exporter": "python",
   "pygments_lexer": "ipython3",
   "version": "3.10.12"
  }
 },
 "nbformat": 4,
 "nbformat_minor": 5
}
